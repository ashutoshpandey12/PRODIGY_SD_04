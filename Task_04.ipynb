{
  "nbformat": 4,
  "nbformat_minor": 0,
  "metadata": {
    "colab": {
      "provenance": []
    },
    "kernelspec": {
      "name": "python3",
      "display_name": "Python 3"
    },
    "language_info": {
      "name": "python"
    }
  },
  "cells": [
    {
      "cell_type": "code",
      "execution_count": 1,
      "metadata": {
        "colab": {
          "base_uri": "https://localhost:8080/"
        },
        "id": "CvUiWpNu77cd",
        "outputId": "71046880-148b-48fc-c82b-818023e4a2b1"
      },
      "outputs": [
        {
          "output_type": "stream",
          "name": "stdout",
          "text": [
            "Solved Sudoku:\n",
            "5 3 4 6 7 8 9 1 2\n",
            "6 7 2 1 9 5 3 4 8\n",
            "1 9 8 3 4 2 5 6 7\n",
            "8 5 9 7 6 1 4 2 3\n",
            "4 2 6 8 5 3 7 9 1\n",
            "7 1 3 9 2 4 8 5 6\n",
            "9 6 1 5 3 7 2 8 4\n",
            "2 8 7 4 1 9 6 3 5\n",
            "3 4 5 2 8 6 1 7 9\n"
          ]
        }
      ],
      "source": [
        "def is_valid(grid, row, col, num):\n",
        "    \"\"\"Checks if it's valid to place 'num' at (row, col) in the grid.\"\"\"\n",
        "    # Check row\n",
        "    for x in range(9):\n",
        "        if grid[row][x] == num:\n",
        "            return False\n",
        "\n",
        "    # Check column\n",
        "    for x in range(9):\n",
        "        if grid[x][col] == num:\n",
        "            return False\n",
        "\n",
        "    # Check 3x3 subgrid\n",
        "    start_row = row - row % 3\n",
        "    start_col = col - col % 3\n",
        "    for i in range(3):\n",
        "        for j in range(3):\n",
        "            if grid[i + start_row][j + start_col] == num:\n",
        "                return False\n",
        "    return True\n",
        "\n",
        "def solve_sudoku(grid):\n",
        "    \"\"\"Solves the Sudoku puzzle using backtracking.\"\"\"\n",
        "    for row in range(9):\n",
        "        for col in range(9):\n",
        "            if grid[row][col] == 0:  # Find an empty cell\n",
        "                for num in range(1, 10):\n",
        "                    if is_valid(grid, row, col, num):\n",
        "                        grid[row][col] = num\n",
        "\n",
        "                        if solve_sudoku(grid):  # Recursively try to solve the rest\n",
        "                            return True\n",
        "\n",
        "                        grid[row][col] = 0  # Backtrack if no valid number works\n",
        "                return False  # No valid number found for this cell\n",
        "    return True  # Puzzle is already solved\n",
        "\n",
        "def print_grid(grid):\n",
        "    \"\"\"Prints the Sudoku grid in a formatted way.\"\"\"\n",
        "    for row in grid:\n",
        "        print(\" \".join(map(str, row)))\n",
        "\n",
        "if __name__ == \"__main__\":\n",
        "    # Example Sudoku grid (0 represents empty cells)\n",
        "    grid = [\n",
        "        [5, 3, 0, 0, 7, 0, 0, 0, 0],\n",
        "        [6, 0, 0, 1, 9, 5, 0, 0, 0],\n",
        "        [0, 9, 8, 0, 0, 0, 0, 6, 0],\n",
        "        [8, 0, 0, 0, 6, 0, 0, 0, 3],\n",
        "        [4, 0, 0, 8, 0, 3, 0, 0, 1],\n",
        "        [7, 0, 0, 0, 2, 0, 0, 0, 6],\n",
        "        [0, 6, 0, 0, 0, 0, 2, 8, 0],\n",
        "        [0, 0, 0, 4, 1, 9, 0, 0, 5],\n",
        "        [0, 0, 0, 0, 8, 0, 0, 7, 9]\n",
        "    ]\n",
        "\n",
        "    if solve_sudoku(grid):\n",
        "        print(\"Solved Sudoku:\")\n",
        "        print_grid(grid)\n",
        "    else:\n",
        "        print(\"No solution exists.\")"
      ]
    }
  ]
}